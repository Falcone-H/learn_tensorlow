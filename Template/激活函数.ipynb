{
 "cells": [
  {
   "cell_type": "code",
   "execution_count": 2,
   "metadata": {},
   "outputs": [
    {
     "data": {
      "text/plain": [
       "<tf.Tensor: shape=(10,), dtype=float32, numpy=\n",
       "array([0.00247264, 0.00931591, 0.03444517, 0.11920291, 0.33924365,\n",
       "       0.6607564 , 0.8807971 , 0.96555483, 0.99068403, 0.99752736],\n",
       "      dtype=float32)>"
      ]
     },
     "execution_count": 2,
     "metadata": {},
     "output_type": "execute_result"
    }
   ],
   "source": [
    "import tensorflow as tf\n",
    "\n",
    "# Sigmoid函数\n",
    "x = tf.linspace(-6., 6., 10) # 构造 -6　～　６的输入向量\n",
    "tf.nn.sigmoid(x) # 将输入压缩到（0，1）区间"
   ]
  },
  {
   "cell_type": "code",
   "execution_count": 3,
   "metadata": {},
   "outputs": [
    {
     "data": {
      "text/plain": [
       "<tf.Tensor: shape=(10,), dtype=float32, numpy=\n",
       "array([0.      , 0.      , 0.      , 0.      , 0.      , 0.666667,\n",
       "       2.      , 3.333334, 4.666667, 6.      ], dtype=float32)>"
      ]
     },
     "execution_count": 3,
     "metadata": {},
     "output_type": "execute_result"
    }
   ],
   "source": [
    "# ReLU函数\n",
    "tf.nn.relu(x) # 单边抑制，保留正数，去除负数"
   ]
  },
  {
   "cell_type": "code",
   "execution_count": 4,
   "metadata": {},
   "outputs": [
    {
     "data": {
      "text/plain": [
       "<tf.Tensor: shape=(10,), dtype=float32, numpy=\n",
       "array([-0.6       , -0.46666667, -0.33333334, -0.2       , -0.06666666,\n",
       "        0.666667  ,  2.        ,  3.333334  ,  4.666667  ,  6.        ],\n",
       "      dtype=float32)>"
      ]
     },
     "execution_count": 4,
     "metadata": {},
     "output_type": "execute_result"
    }
   ],
   "source": [
    "# LeakyReLU函数\n",
    "tf.nn.leaky_relu(x, alpha=0.1) # 输入x，若x为正数，则输出x；若x为负数，则输出alpha * x"
   ]
  },
  {
   "cell_type": "code",
   "execution_count": 5,
   "metadata": {},
   "outputs": [
    {
     "data": {
      "text/plain": [
       "<tf.Tensor: shape=(10,), dtype=float32, numpy=\n",
       "array([-0.99998784, -0.99982315, -0.9974579 , -0.9640276 , -0.58278286,\n",
       "        0.58278316,  0.9640276 ,  0.99745804,  0.99982315,  0.99998784],\n",
       "      dtype=float32)>"
      ]
     },
     "execution_count": 5,
     "metadata": {},
     "output_type": "execute_result"
    }
   ],
   "source": [
    "# Tanh函数\n",
    "tf.nn.tanh(x) # 将输入压缩到（-1，1）区间"
   ]
  },
  {
   "cell_type": "code",
   "execution_count": 6,
   "metadata": {},
   "outputs": [
    {
     "data": {
      "text/plain": [
       "<tf.Tensor: shape=(3,), dtype=float32, numpy=array([0.6590012 , 0.24243298, 0.09856589], dtype=float32)>"
      ]
     },
     "execution_count": 6,
     "metadata": {},
     "output_type": "execute_result"
    }
   ],
   "source": [
    "# Softmax函数\n",
    "z = tf.constant([2., 1., 0.1])\n",
    "tf.nn.softmax(z) # 将输出转化为概率，加起来和为1"
   ]
  },
  {
   "cell_type": "code",
   "execution_count": null,
   "metadata": {},
   "outputs": [],
   "source": []
  },
  {
   "cell_type": "code",
   "execution_count": null,
   "metadata": {},
   "outputs": [],
   "source": []
  },
  {
   "cell_type": "code",
   "execution_count": null,
   "metadata": {},
   "outputs": [],
   "source": []
  }
 ],
 "metadata": {
  "kernelspec": {
   "display_name": "Python 3",
   "language": "python",
   "name": "python3"
  },
  "language_info": {
   "codemirror_mode": {
    "name": "ipython",
    "version": 3
   },
   "file_extension": ".py",
   "mimetype": "text/x-python",
   "name": "python",
   "nbconvert_exporter": "python",
   "pygments_lexer": "ipython3",
   "version": "3.8.6"
  }
 },
 "nbformat": 4,
 "nbformat_minor": 4
}
