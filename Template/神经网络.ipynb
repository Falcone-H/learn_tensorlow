{
 "cells": [
  {
   "cell_type": "code",
   "execution_count": 1,
   "metadata": {},
   "outputs": [],
   "source": [
    "import tensorflow as tf"
   ]
  },
  {
   "cell_type": "code",
   "execution_count": 11,
   "metadata": {},
   "outputs": [],
   "source": [
    "# 张量方式实现\n",
    "\n",
    "# 隐藏层1张量\n",
    "w1 = tf.Variable(tf.random.truncated_normal([784, 256], stddev=0.1))\n",
    "b1 = tf.Variable(tf.zeros([256]))\n",
    "\n",
    "# 隐藏层2张量\n",
    "w2 = tf.Variable(tf.random.truncated_normal([256, 128], stddev=0.1))\n",
    "b2 = tf.Variable(tf.zeros([128]))\n",
    "\n",
    "# 隐藏层3张量\n",
    "w3 = tf.Variable(tf.random.truncated_normal([128, 64], stddev=0.1))\n",
    "b3 = tf.Variable(tf.zeros([64]))\n",
    "\n",
    "# 输出层张量\n",
    "w4 = tf.Variable(tf.random.truncated_normal([64, 10], stddev=0.1))\n",
    "b4 = tf.Variable(tf.zeros([10]))\n",
    "\n",
    "# 定义张量\n",
    "x = tf.random.normal([4, 784])\n",
    "\n",
    "# 计算\n",
    "with tf.GradientTape() as tape: # 梯度记录器\n",
    "    # x: [b, 28*28]\n",
    "    # 隐藏层1前向计算，[b, 28*28] => [b, 256]\n",
    "    h1 = x@w1 + tf.broadcast_to(b1, [x.shape[0], 256])\n",
    "    h1 = tf.nn.relu(h1)\n",
    "    # 隐藏层2前向计算，[b, 256] => [b, 64]\n",
    "    h2 = h1@w2 + b2\n",
    "    h2 = tf.nn.relu(h2)\n",
    "    # 隐藏层3前向计算，[b, 64] => [b, 10]\n",
    "    h3 = h2@w3 + b3\n",
    "    h3 = tf.nn.relu(h3)\n",
    "    # 输出层前向计算，[b, 64] => [b, 10]\n",
    "    h4 = h3@w4 + b4"
   ]
  },
  {
   "cell_type": "code",
   "execution_count": 17,
   "metadata": {},
   "outputs": [],
   "source": [
    "# 层方式实现\n",
    "\n",
    "# 导入常用网络层layers\n",
    "from tensorflow.keras import layers, Sequential\n",
    "\n",
    "fc1 = layers.Dense(256, activation=tf.nn.relu) # 隐藏层1\n",
    "fc2 = layers.Dense(128, activation=tf.nn.relu) # 隐藏层2\n",
    "fc3 = layers.Dense(64, activation=tf.nn.relu) # 隐藏层3\n",
    "fc4 = layers.Dense(10, activation=None) # 输出层\n",
    "\n",
    "x = tf.random.normal([4, 28*28])\n",
    "h1 = fc1(x) # 通过隐藏层1得到输出\n",
    "h2 = fc2(h1) # 通过隐藏层2得到输出\n",
    "h3 = fc3(h2) # 通过隐藏层3得到输出\n",
    "h4 = fc4(h3) # 通过输出层得到网络输出"
   ]
  },
  {
   "cell_type": "code",
   "execution_count": 16,
   "metadata": {},
   "outputs": [],
   "source": [
    "# 通过Sequential容器封装，一次完成前向计算\n",
    "from tensorflow.keras import layers, Sequential\n",
    "\n",
    "# 通过Sequential容器封装为一个网络类\n",
    "model = Sequential([\n",
    "    layers.Dense(256, activation=tf.nn.relu), # 创建隐藏层1\n",
    "    layers.Dense(128, activation=tf.nn.relu), # 创建隐藏层2\n",
    "    layers.Dense(64, activation=tf.nn.relu), # 创建隐藏层3\n",
    "    layers.Dense(10, activation=None), # 创建输出层\n",
    "])\n",
    "\n",
    "out = model(x) # 前向计算得到输出"
   ]
  },
  {
   "cell_type": "code",
   "execution_count": null,
   "metadata": {},
   "outputs": [],
   "source": []
  }
 ],
 "metadata": {
  "kernelspec": {
   "display_name": "Python 3",
   "language": "python",
   "name": "python3"
  },
  "language_info": {
   "codemirror_mode": {
    "name": "ipython",
    "version": 3
   },
   "file_extension": ".py",
   "mimetype": "text/x-python",
   "name": "python",
   "nbconvert_exporter": "python",
   "pygments_lexer": "ipython3",
   "version": "3.8.6"
  }
 },
 "nbformat": 4,
 "nbformat_minor": 4
}
