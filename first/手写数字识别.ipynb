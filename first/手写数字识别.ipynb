{
 "cells": [
  {
   "cell_type": "markdown",
   "metadata": {},
   "source": [
    "# 手写训练参数，损失函数为MSE"
   ]
  },
  {
   "cell_type": "code",
   "execution_count": 2,
   "metadata": {},
   "outputs": [],
   "source": [
    "import matplotlib\n",
    "%matplotlib inline\n",
    "from matplotlib import pyplot as plt"
   ]
  },
  {
   "cell_type": "code",
   "execution_count": 3,
   "metadata": {},
   "outputs": [],
   "source": [
    "# Default parameters for plots\n",
    "matplotlib.rcParams['font.size'] = 20\n",
    "matplotlib.rcParams['figure.titlesize'] = 20\n",
    "matplotlib.rcParams['figure.figsize'] = [9, 7]\n",
    "matplotlib.rcParams['font.family'] = ['STKaiTi']\n",
    "matplotlib.rcParams['axes.unicode_minus']=False "
   ]
  },
  {
   "cell_type": "code",
   "execution_count": 4,
   "metadata": {},
   "outputs": [],
   "source": [
    "import tensorflow as tf\n",
    "from tensorflow import keras\n",
    "from tensorflow.keras import datasets\n",
    "import os"
   ]
  },
  {
   "cell_type": "code",
   "execution_count": 5,
   "metadata": {},
   "outputs": [],
   "source": [
    "#os.environ['TF_CPP_MIN_LOG_LEVEL'] = '2'"
   ]
  },
  {
   "cell_type": "code",
   "execution_count": 6,
   "metadata": {},
   "outputs": [],
   "source": [
    "# x: [60000, 28, 28]\n",
    "# y: [60000]\n",
    "(x, y), (x_val, y_val) = datasets.mnist.load_data()"
   ]
  },
  {
   "cell_type": "code",
   "execution_count": 7,
   "metadata": {},
   "outputs": [],
   "source": [
    "# x: [0~255] => [0~1]\n",
    "x = tf.convert_to_tensor(x, dtype=tf.float32) / 255.\n",
    "y = tf.convert_to_tensor(y, dtype=tf.int32)"
   ]
  },
  {
   "cell_type": "code",
   "execution_count": 9,
   "metadata": {},
   "outputs": [
    {
     "name": "stdout",
     "output_type": "stream",
     "text": [
      "(60000, 28, 28) (60000,) <dtype: 'float32'> <dtype: 'int32'>\n"
     ]
    }
   ],
   "source": [
    "print(x.shape, y.shape, x.dtype, y.dtype)"
   ]
  },
  {
   "cell_type": "code",
   "execution_count": 10,
   "metadata": {},
   "outputs": [
    {
     "name": "stdout",
     "output_type": "stream",
     "text": [
      "tf.Tensor(0.0, shape=(), dtype=float32) tf.Tensor(1.0, shape=(), dtype=float32)\n"
     ]
    }
   ],
   "source": [
    "print(tf.reduce_min(x), tf.reduce_max(x))"
   ]
  },
  {
   "cell_type": "code",
   "execution_count": 11,
   "metadata": {},
   "outputs": [
    {
     "name": "stdout",
     "output_type": "stream",
     "text": [
      "tf.Tensor(0, shape=(), dtype=int32) tf.Tensor(9, shape=(), dtype=int32)\n"
     ]
    }
   ],
   "source": [
    "print(tf.reduce_min(y), tf.reduce_max(y))"
   ]
  },
  {
   "cell_type": "code",
   "execution_count": 12,
   "metadata": {},
   "outputs": [
    {
     "name": "stdout",
     "output_type": "stream",
     "text": [
      "batch: (128, 28, 28) (128,)\n"
     ]
    }
   ],
   "source": [
    "train_db = tf.data.Dataset.from_tensor_slices((x,y)).batch(128)\n",
    "train_iter = iter(train_db)\n",
    "sample = next(train_iter)\n",
    "print('batch:', sample[0].shape, sample[1].shape)"
   ]
  },
  {
   "cell_type": "code",
   "execution_count": 26,
   "metadata": {},
   "outputs": [],
   "source": [
    "# [b, 784] => [b, 256] => [b, 128] => [b, 10]\n",
    "# [dim_in, dim_out], [dim_out]\n",
    "w1 = tf.Variable(tf.random.truncated_normal([784, 256], stddev=0.1))\n",
    "b1 = tf.Variable(tf.zeros([256]))\n",
    "w2 = tf.Variable(tf.random.truncated_normal([256, 128], stddev=0.1))\n",
    "b2 = tf.Variable(tf.zeros([128]))\n",
    "w3 = tf.Variable(tf.random.truncated_normal([128, 10], stddev=0.1))\n",
    "b3 = tf.Variable(tf.zeros([10]))\n",
    "\n",
    "lr = 0.001\n",
    "\n",
    "losses = []\n",
    "acc_meter = tf.keras.metrics.SparseCategoricalAccuracy()"
   ]
  },
  {
   "cell_type": "code",
   "execution_count": 27,
   "metadata": {},
   "outputs": [
    {
     "name": "stdout",
     "output_type": "stream",
     "text": [
      "epoch:0, step:0, loss: 0.22401371598243713\n",
      "epoch:0, step:100, loss: 0.18779155611991882\n",
      "epoch:0, step:200, loss: 0.1960711032152176\n",
      "epoch:0, step:300, loss: 0.15449853241443634\n",
      "epoch:0, step:400, loss: 0.1796032190322876\n",
      "epoch:1, step:0, loss: 0.14132872223854065\n",
      "epoch:1, step:100, loss: 0.15358349680900574\n",
      "epoch:1, step:200, loss: 0.1619867980480194\n",
      "epoch:1, step:300, loss: 0.1313243806362152\n",
      "epoch:1, step:400, loss: 0.1533067524433136\n",
      "epoch:2, step:0, loss: 0.1223394125699997\n",
      "epoch:2, step:100, loss: 0.13547219336032867\n",
      "epoch:2, step:200, loss: 0.14157181978225708\n",
      "epoch:2, step:300, loss: 0.11652682721614838\n",
      "epoch:2, step:400, loss: 0.13623686134815216\n",
      "epoch:3, step:0, loss: 0.10991962999105453\n",
      "epoch:3, step:100, loss: 0.1233450323343277\n",
      "epoch:3, step:200, loss: 0.1276143342256546\n",
      "epoch:3, step:300, loss: 0.10631859302520752\n",
      "epoch:3, step:400, loss: 0.12435052543878555\n",
      "epoch:4, step:0, loss: 0.10110483318567276\n",
      "epoch:4, step:100, loss: 0.11458434909582138\n",
      "epoch:4, step:200, loss: 0.11745669692754745\n",
      "epoch:4, step:300, loss: 0.09879176318645477\n",
      "epoch:4, step:400, loss: 0.11554566770792007\n",
      "epoch:5, step:0, loss: 0.09439660608768463\n",
      "epoch:5, step:100, loss: 0.10793817043304443\n",
      "epoch:5, step:200, loss: 0.10971798747777939\n",
      "epoch:5, step:300, loss: 0.09299947321414948\n",
      "epoch:5, step:400, loss: 0.10868477821350098\n",
      "epoch:6, step:0, loss: 0.08913932740688324\n",
      "epoch:6, step:100, loss: 0.10269197076559067\n",
      "epoch:6, step:200, loss: 0.10361276566982269\n",
      "epoch:6, step:300, loss: 0.08840306848287582\n",
      "epoch:6, step:400, loss: 0.1032249927520752\n",
      "epoch:7, step:0, loss: 0.08491536229848862\n",
      "epoch:7, step:100, loss: 0.09844444692134857\n",
      "epoch:7, step:200, loss: 0.09861430525779724\n",
      "epoch:7, step:300, loss: 0.0846664309501648\n",
      "epoch:7, step:400, loss: 0.09871417284011841\n",
      "epoch:8, step:0, loss: 0.08141953498125076\n",
      "epoch:8, step:100, loss: 0.09487093985080719\n",
      "epoch:8, step:200, loss: 0.09443982690572739\n",
      "epoch:8, step:300, loss: 0.08157648891210556\n",
      "epoch:8, step:400, loss: 0.094842329621315\n",
      "epoch:9, step:0, loss: 0.07846586406230927\n",
      "epoch:9, step:100, loss: 0.09182871133089066\n",
      "epoch:9, step:200, loss: 0.09087271988391876\n",
      "epoch:9, step:300, loss: 0.07893206924200058\n",
      "epoch:9, step:400, loss: 0.09151987731456757\n",
      "epoch:10, step:0, loss: 0.07592441141605377\n",
      "epoch:10, step:100, loss: 0.08917335420846939\n",
      "epoch:10, step:200, loss: 0.08777876198291779\n",
      "epoch:10, step:300, loss: 0.07664615660905838\n",
      "epoch:10, step:400, loss: 0.08862344175577164\n",
      "epoch:11, step:0, loss: 0.07372842729091644\n",
      "epoch:11, step:100, loss: 0.0868363007903099\n",
      "epoch:11, step:200, loss: 0.08507572114467621\n",
      "epoch:11, step:300, loss: 0.07464739680290222\n",
      "epoch:11, step:400, loss: 0.08608371019363403\n",
      "epoch:12, step:0, loss: 0.071810781955719\n",
      "epoch:12, step:100, loss: 0.08475486934185028\n",
      "epoch:12, step:200, loss: 0.08268306404352188\n",
      "epoch:12, step:300, loss: 0.07287216186523438\n",
      "epoch:12, step:400, loss: 0.08383624255657196\n",
      "epoch:13, step:0, loss: 0.07010602951049805\n",
      "epoch:13, step:100, loss: 0.08289054781198502\n",
      "epoch:13, step:200, loss: 0.08051915466785431\n",
      "epoch:13, step:300, loss: 0.07127217948436737\n",
      "epoch:13, step:400, loss: 0.08183510601520538\n",
      "epoch:14, step:0, loss: 0.0685882493853569\n",
      "epoch:14, step:100, loss: 0.08120162785053253\n",
      "epoch:14, step:200, loss: 0.07855425775051117\n",
      "epoch:14, step:300, loss: 0.06981543451547623\n",
      "epoch:14, step:400, loss: 0.08004315197467804\n",
      "epoch:15, step:0, loss: 0.06721023470163345\n",
      "epoch:15, step:100, loss: 0.07966490834951401\n",
      "epoch:15, step:200, loss: 0.07676099240779877\n",
      "epoch:15, step:300, loss: 0.0684802234172821\n",
      "epoch:15, step:400, loss: 0.07840395718812943\n",
      "epoch:16, step:0, loss: 0.0659501701593399\n",
      "epoch:16, step:100, loss: 0.07826894521713257\n",
      "epoch:16, step:200, loss: 0.07512195408344269\n",
      "epoch:16, step:300, loss: 0.06726085394620895\n",
      "epoch:16, step:400, loss: 0.07689273357391357\n",
      "epoch:17, step:0, loss: 0.06478916108608246\n",
      "epoch:17, step:100, loss: 0.07698774337768555\n",
      "epoch:17, step:200, loss: 0.07362230122089386\n",
      "epoch:17, step:300, loss: 0.06613963842391968\n",
      "epoch:17, step:400, loss: 0.07550288736820221\n",
      "epoch:18, step:0, loss: 0.06372086703777313\n",
      "epoch:18, step:100, loss: 0.0758049488067627\n",
      "epoch:18, step:200, loss: 0.0722382664680481\n",
      "epoch:18, step:300, loss: 0.06510894745588303\n",
      "epoch:18, step:400, loss: 0.07422804832458496\n",
      "epoch:19, step:0, loss: 0.0627264603972435\n",
      "epoch:19, step:100, loss: 0.07470852136611938\n",
      "epoch:19, step:200, loss: 0.070955790579319\n",
      "epoch:19, step:300, loss: 0.06415073573589325\n",
      "epoch:19, step:400, loss: 0.07304146885871887\n"
     ]
    }
   ],
   "source": [
    "for epoch in range(20):\n",
    "    for step, (x, y) in enumerate(train_db): # for every batch\n",
    "        # x:[128, 28, 28]\n",
    "        # y:[128]\n",
    "        \n",
    "        #[b, 28, 28] => [b, 28*28]\n",
    "        x = tf.reshape(x, [-1, 28*28])\n",
    "        \n",
    "        with tf.GradientTape() as tape: \n",
    "            # h1 = x@w1 + b1\n",
    "            # [b, 784] @ [784, 256] + [256] => [b, 256] + [256] => [b, 256] + [b, 256]\n",
    "            h1 = x@w1 + tf.broadcast_to(b1, [x.shape[0], 256])\n",
    "            h1 = tf.nn.relu(h1)\n",
    "            \n",
    "            # [b, 256] => [b, 128]\n",
    "            h2 = h1@w2 + b2\n",
    "            h2 = tf.nn.relu(h2)\n",
    "            \n",
    "            # [b, 128] => [b, 10]\n",
    "            out = h2@w3 + b3\n",
    "            \n",
    "            y_onehot = tf.one_hot(y, depth=10)\n",
    "            \n",
    "            # 计算均方差\n",
    "            # mse = mean(sum(y-out)^2) [b, 10]\n",
    "            loss = tf.square(y_onehot - out)\n",
    "            # 误差标量，mean: scalar\n",
    "            loss = tf.reduce_mean(loss)\n",
    "        \n",
    "        # 计算梯度\n",
    "        grads = tape.gradient(loss, [w1, b1, w2, b2, w3, b3])\n",
    "        \n",
    "        # w = w - lr * w'\n",
    "        w1.assign_sub(lr * grads[0])\n",
    "        b1.assign_sub(lr * grads[1])\n",
    "        w2.assign_sub(lr * grads[2])\n",
    "        b2.assign_sub(lr * grads[3])\n",
    "        w3.assign_sub(lr * grads[4])\n",
    "        b3.assign_sub(lr * grads[5])\n",
    "        \n",
    "        acc_meter.update_state(y, out)\n",
    "        \n",
    "        if step % 100 == 0:\n",
    "            print(f'epoch:{epoch}, step:{step}, loss: {float(loss)}')\n",
    "    losses.append(float(loss))"
   ]
  },
  {
   "cell_type": "code",
   "execution_count": 30,
   "metadata": {},
   "outputs": [
    {
     "data": {
      "image/png": "[encoded data removed]",
      "text/plain": [
       "<Figure size 648x504 with 1 Axes>"
      ]
     },
     "metadata": {
      "needs_background": "light"
     },
     "output_type": "display_data"
    }
   ],
   "source": [
    "plt.figure()\n",
    "plt.plot(losses, color='c', marker='s', label='训练')\n",
    "plt.xlabel('Epoch')\n",
    "plt.legend()\n",
    "plt.ylabel('MSE')\n",
    "plt.show()"
   ]
  },
  {
   "cell_type": "code",
   "execution_count": null,
   "metadata": {},
   "outputs": [],
   "source": []
  }
 ],
 "metadata": {
  "kernelspec": {
   "display_name": "Python 3",
   "language": "python",
   "name": "python3"
  },
  "language_info": {
   "codemirror_mode": {
    "name": "ipython",
    "version": 3
   },
   "file_extension": ".py",
   "mimetype": "text/x-python",
   "name": "python",
   "nbconvert_exporter": "python",
   "pygments_lexer": "ipython3",
   "version": "3.8.6"
  }
 },
 "nbformat": 4,
 "nbformat_minor": 4
}
